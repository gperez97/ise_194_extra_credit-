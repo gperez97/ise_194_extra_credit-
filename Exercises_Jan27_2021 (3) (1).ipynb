{
 "cells": [
  {
   "cell_type": "markdown",
   "metadata": {},
   "source": [
    "# Can you order these puzzles?\n",
    "\n",
    "The goal with the following exercises is get familiar with the python syntax."
   ]
  },
  {
   "cell_type": "markdown",
   "metadata": {},
   "source": [
    "<div class=\"alert alert-block alert-warning\">\n",
    "    \n",
    "## Instructions\n",
    "You have been given a problem statement and pythoncode for solving the problem. The code sequence is jumbled up. Your task is to rearrange the lines in correct order. You might need to use the line of code more than once.\n",
    "\n",
    "**Remember** : In Python, block statements such as conditionals or loops are marked by indentation. "
   ]
  },
  {
   "cell_type": "markdown",
   "metadata": {},
   "source": [
    "<div class=\"alert alert-block alert-info\">\n",
    "\n",
    "### 1. Read in the number and write out whether it is odd or even\n",
    "\n",
    "print(\"The number \" + str(num) + \" is even.\")  \n",
    "\n",
    "else:  \n",
    "\n",
    "mod = num % 2   \n",
    "\n",
    "print(\"The number \" + str(num) + \" is odd.\")  \n",
    "\n",
    "num = int( input(\" Enter a number: \") )  \n",
    "\n",
    "if mod > 0:  "
   ]
  },
  {
   "cell_type": "code",
   "execution_count": 3,
   "metadata": {},
   "outputs": [
    {
     "name": "stdout",
     "output_type": "stream",
     "text": [
      " Enter a number: 3\n",
      "The number 3 is odd.\n"
     ]
    }
   ],
   "source": [
    "num = int( input(\" Enter a number: \") )\n",
    "mod = num % 2\n",
    "if mod > 0:\n",
    "    print(\"The number \" + str(num) + \" is odd.\")\n",
    "else:\n",
    "    print(\"The number \" + str(num) + \" is even.\")"
   ]
  },
  {
   "cell_type": "markdown",
   "metadata": {},
   "source": [
    "<div class=\"alert alert-block alert-info\">\n",
    "\n",
    "### 2. Create a guessing game. The program should generate random numbers between 0 and 9. It should prompt the user for guessing an integer between 0 and 9. If the guess is higher than the random number, print \"Too High!\", if lower print \"Too Low!\". The program should also count the number of tries and print it in the end.\n",
    "\n",
    "import random\n",
    "\n",
    "while guess != num and guess != \"exit\":  \n",
    "\n",
    "num = random.randint(0,9)  \n",
    "\n",
    "c = 1  \n",
    "\n",
    "c += 1  \n",
    "\n",
    "if guess == num:  \n",
    "\n",
    "else:  \n",
    "\n",
    "print(\"Right!\")  \n",
    "\n",
    "print(\"You took only\", c, \"tries!\")  \n",
    "\n",
    "print(\"Too high!\")  \n",
    "\n",
    "if guess > num:  \n",
    "\n",
    "print(\"Too Low\")  \n",
    "\n",
    "guess = int( input(\"Enter a guess between 0 and 9\") )  "
   ]
  },
  {
   "cell_type": "code",
   "execution_count": null,
   "metadata": {},
   "outputs": [],
   "source": [
    "import random\n",
    "num = random.randint(0,9)\n",
    "guess = int( input(\"Enter a guess between 0 and 9\") )\n",
    "c = 1\n",
    "\n",
    "c += 1\n",
    "while guess != num and guess != \"exit\":\n",
    "if guess > num:\n",
    "    print(\"Too high!\")\n",
    "if guess == num:\n",
    "    print(\"Right!\")\n",
    "if guess < num:\n",
    "    print(\"Too Low\")\n",
    "else:\n",
    "    print(\"You took only\", c, \"tries!\")\n",
    "   "
   ]
  },
  {
   "cell_type": "markdown",
   "metadata": {},
   "source": [
    "\n",
    "### 3. Given a dictionary named heights with names (type string) as key and height (type float) as values. Print out the name of the tallest person.\n",
    "\n",
    "tallest = 'No-one'\n",
    "\n",
    "if v > max_height:\n",
    "\n",
    "heights = {'Alice': 1.8, 'Bob':1.9, 'Charlie':1.75, 'Dave':1.4, 'Ethel':1.93}\n",
    "\n",
    "max_height = v\n",
    "\n",
    "print('The tallest person is ', tallest)\n",
    "\n",
    "max_height = 0\n",
    "\n",
    "tallest = k\n",
    "\n",
    "for k, v in heights.items():"
   ]
  },
  {
   "cell_type": "code",
   "execution_count": null,
   "metadata": {},
   "outputs": [],
   "source": [
    "max_height = 0\n",
    "max_height = v\n",
    "tallest = k\n",
    "for k, v in heights.items()\n",
    "heights = {'Alice': 1.8, 'Bob':1.9, 'Charlie':1.75, 'Dave':1.4, 'Ethel':1.93}\n",
    "if v > max_height:\n",
    "    tallest = 'No-one'\n",
    "\n",
    "\n"
   ]
  },
  {
   "cell_type": "markdown",
   "metadata": {},
   "source": [
    "<div class=\"alert alert-block alert-warning\">\n",
    "    \n",
    "## Numpy\n",
    "### Tutorial: https://numpy.org/doc/stable/user/quickstart.html\n",
    "\n",
    "#### The basics: Creation, Attributes, Operations"
   ]
  },
  {
   "cell_type": "markdown",
   "metadata": {},
   "source": [
    "<div class=\"alert alert-block alert-info\">\n",
    "\n",
    "### 4. Create a program to simulate checking for a biased coin. Simulate coin tossing experiment and record head (1) and tail as (0). Calculate the percentage of heads obtained \n",
    "\n",
    "### Can you print if the coin is biased or not?\n",
    "\n",
    "print(\"The probability of getting a head is: \" + str(probH*100) + \"%\")\n",
    "\n",
    "c = narray < 1\n",
    "\n",
    "import numpy \n",
    "\n",
    "probH = len(narray[c])/len(narray)\n",
    "\n",
    "narray = numpy.random.randint(2,size=100)"
   ]
  },
  {
   "cell_type": "code",
   "execution_count": null,
   "metadata": {},
   "outputs": [],
   "source": [
    "import numpy\n",
    "narray = numpy.random.randint(2,size=100)\n",
    "probH = len(narray[c])/len(narray)\n",
    "c = narray < 1\n",
    "print(\"The probability of getting a head is: \" + str(probH*100) + \"%\")"
   ]
  },
  {
   "cell_type": "markdown",
   "metadata": {},
   "source": [
    "<div class=\"alert alert-block alert-info\">\n",
    "\n",
    "### [Optional] 5. The following program for a given list of words, should accomplish both writing the words backwards and ordering the words in reverse direction\n",
    "### Fix the code"
   ]
  },
  {
   "cell_type": "code",
   "execution_count": null,
   "metadata": {},
   "outputs": [],
   "source": [
    "sentence = ['learning','python','is','a','lot','of','fun']\n",
    "neworder = []\n",
    "for word in sentence:\n",
    "    new_word = \"\"\n",
    "    for letter in word:\n",
    "        new_word = letter + new_word\n",
    "    neworder =  neworder + [new_word] \n",
    "print(sentence)\n",
    "print(neworder)"
   ]
  },
  {
   "cell_type": "markdown",
   "metadata": {},
   "source": [
    "#### Reference: https://www.gla.ac.uk/media/Media_632422_smxx.pdf"
   ]
  }
 ],
 "metadata": {
  "kernelspec": {
   "display_name": "Python 3",
   "language": "python",
   "name": "python3"
  },
  "language_info": {
   "codemirror_mode": {
    "name": "ipython",
    "version": 3
   },
   "file_extension": ".py",
   "mimetype": "text/x-python",
   "name": "python",
   "nbconvert_exporter": "python",
   "pygments_lexer": "ipython3",
   "version": "3.8.5"
  }
 },
 "nbformat": 4,
 "nbformat_minor": 4
}
