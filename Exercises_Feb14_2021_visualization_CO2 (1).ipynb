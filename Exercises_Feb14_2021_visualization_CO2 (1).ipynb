{
 "cells": [
  {
   "cell_type": "markdown",
   "metadata": {},
   "source": [
    "# Data Load and Wrangle\n",
    "\n",
    "## The goal of the exercise is to load a dataset, clean and transform and compute descriptive statistics"
   ]
  },
  {
   "cell_type": "code",
   "execution_count": 1,
   "metadata": {},
   "outputs": [],
   "source": [
    "# This piece of code enables to display multiple output within a cell\n",
    "from IPython.core.interactiveshell import InteractiveShell\n",
    "InteractiveShell.ast_node_interactivity = 'all'"
   ]
  },
  {
   "cell_type": "markdown",
   "metadata": {},
   "source": [
    "<div class=\"alert alert-block alert-warning\">\n",
    "    \n",
    "## Task Instructions \n",
    "### Load one of the built in dataset\n",
    "### Transform the data as required \n",
    "### From a perspective of a journalist interested in writing a story about the data, **_ask and answer_** **3** questions that summarize the sample. \n",
    "    \n",
    "#### Please *_only use summary statistics_* (mean, median, mode, standard deviation, variance, range,..). The statistics can be computed by groups.\n",
    "\n",
    "#### Reference :https://kolesnikov.ga/Datasets_in_Python/\n",
    "\n",
    "</div>"
   ]
  },
  {
   "cell_type": "code",
   "execution_count": 2,
   "metadata": {},
   "outputs": [
    {
     "name": "stdout",
     "output_type": "stream",
     "text": [
      "\n",
      "Atmospheric CO2 from Continuous Air Samples at Mauna Loa Observatory, Hawaii, U.S.A.\n",
      "\n",
      "Period of Record: March 1958 - December 2001\n",
      "\n",
      "Methods: An Applied Physics Corporation (APC) nondispersive infrared gas analyzer was used to obtain atmospheric CO2 concentrations, based on continuous data (four measurements per hour) from atop intake lines on several towers. Steady data periods of not less than six hours per day are required; if no such six-hour periods are available on any given day, then no data are used that day. Weekly averages were calculated for most weeks throughout the approximately 44 years of record. The continuous data for year 2000 is compared with flask data from the same site in the graphics section.\n"
     ]
    }
   ],
   "source": [
    "import numpy as np\n",
    "import pandas as pd\n",
    "import statsmodels.api as sm \n",
    "import matplotlib.pyplot as plt\n",
    "from scipy import stats\n",
    "co2 = sm.datasets.co2\n",
    "print(co2.DESCRLONG)"
   ]
  },
  {
   "cell_type": "code",
   "execution_count": 3,
   "metadata": {},
   "outputs": [],
   "source": [
    "plt.close(\"all\")"
   ]
  },
  {
   "cell_type": "code",
   "execution_count": 5,
   "metadata": {},
   "outputs": [
    {
     "name": "stdout",
     "output_type": "stream",
     "text": [
      "::\n",
      "\n",
      "    Number of observations: 2225\n",
      "    Number of variables: 2\n",
      "    Variable name definitions:\n",
      "\n",
      "        date - sample date in YYMMDD format\n",
      "        co2 - CO2 Concentration ppmv\n",
      "\n",
      "    The data returned by load_pandas contains the dates as the index.\n",
      "\n"
     ]
    }
   ],
   "source": [
    "# Journalist: \"How many samples were recorded?\"\n",
    "print(co2.NOTE)\n"
   ]
  },
  {
   "cell_type": "code",
   "execution_count": 6,
   "metadata": {},
   "outputs": [],
   "source": [
    "# answer: \"2225 samples were taken.\""
   ]
  },
  {
   "cell_type": "code",
   "execution_count": 7,
   "metadata": {},
   "outputs": [],
   "source": [
    "dataset_co2=co2.load_pandas()\n",
    "\n"
   ]
  },
  {
   "cell_type": "code",
   "execution_count": 8,
   "metadata": {},
   "outputs": [
    {
     "data": {
      "text/html": [
       "<div>\n",
       "<style scoped>\n",
       "    .dataframe tbody tr th:only-of-type {\n",
       "        vertical-align: middle;\n",
       "    }\n",
       "\n",
       "    .dataframe tbody tr th {\n",
       "        vertical-align: top;\n",
       "    }\n",
       "\n",
       "    .dataframe thead th {\n",
       "        text-align: right;\n",
       "    }\n",
       "</style>\n",
       "<table border=\"1\" class=\"dataframe\">\n",
       "  <thead>\n",
       "    <tr style=\"text-align: right;\">\n",
       "      <th></th>\n",
       "      <th>co2</th>\n",
       "    </tr>\n",
       "  </thead>\n",
       "  <tbody>\n",
       "    <tr>\n",
       "      <th>1958-03-29</th>\n",
       "      <td>316.1</td>\n",
       "    </tr>\n",
       "    <tr>\n",
       "      <th>1958-04-05</th>\n",
       "      <td>317.3</td>\n",
       "    </tr>\n",
       "    <tr>\n",
       "      <th>1958-04-12</th>\n",
       "      <td>317.6</td>\n",
       "    </tr>\n",
       "    <tr>\n",
       "      <th>1958-04-19</th>\n",
       "      <td>317.5</td>\n",
       "    </tr>\n",
       "    <tr>\n",
       "      <th>1958-04-26</th>\n",
       "      <td>316.4</td>\n",
       "    </tr>\n",
       "  </tbody>\n",
       "</table>\n",
       "</div>"
      ],
      "text/plain": [
       "              co2\n",
       "1958-03-29  316.1\n",
       "1958-04-05  317.3\n",
       "1958-04-12  317.6\n",
       "1958-04-19  317.5\n",
       "1958-04-26  316.4"
      ]
     },
     "execution_count": 8,
     "metadata": {},
     "output_type": "execute_result"
    }
   ],
   "source": [
    "df_co2=dataset_co2.data\n",
    "df_co2.head()\n",
    "    "
   ]
  },
  {
   "cell_type": "code",
   "execution_count": 9,
   "metadata": {},
   "outputs": [
    {
     "data": {
      "text/html": [
       "<div>\n",
       "<style scoped>\n",
       "    .dataframe tbody tr th:only-of-type {\n",
       "        vertical-align: middle;\n",
       "    }\n",
       "\n",
       "    .dataframe tbody tr th {\n",
       "        vertical-align: top;\n",
       "    }\n",
       "\n",
       "    .dataframe thead th {\n",
       "        text-align: right;\n",
       "    }\n",
       "</style>\n",
       "<table border=\"1\" class=\"dataframe\">\n",
       "  <thead>\n",
       "    <tr style=\"text-align: right;\">\n",
       "      <th></th>\n",
       "      <th>co2</th>\n",
       "    </tr>\n",
       "  </thead>\n",
       "  <tbody>\n",
       "    <tr>\n",
       "      <th>1958-03-29</th>\n",
       "      <td>316.1</td>\n",
       "    </tr>\n",
       "    <tr>\n",
       "      <th>1958-04-05</th>\n",
       "      <td>317.3</td>\n",
       "    </tr>\n",
       "    <tr>\n",
       "      <th>1958-04-12</th>\n",
       "      <td>317.6</td>\n",
       "    </tr>\n",
       "    <tr>\n",
       "      <th>1958-04-19</th>\n",
       "      <td>317.5</td>\n",
       "    </tr>\n",
       "    <tr>\n",
       "      <th>1958-04-26</th>\n",
       "      <td>316.4</td>\n",
       "    </tr>\n",
       "    <tr>\n",
       "      <th>...</th>\n",
       "      <td>...</td>\n",
       "    </tr>\n",
       "    <tr>\n",
       "      <th>2001-12-01</th>\n",
       "      <td>370.3</td>\n",
       "    </tr>\n",
       "    <tr>\n",
       "      <th>2001-12-08</th>\n",
       "      <td>370.8</td>\n",
       "    </tr>\n",
       "    <tr>\n",
       "      <th>2001-12-15</th>\n",
       "      <td>371.2</td>\n",
       "    </tr>\n",
       "    <tr>\n",
       "      <th>2001-12-22</th>\n",
       "      <td>371.3</td>\n",
       "    </tr>\n",
       "    <tr>\n",
       "      <th>2001-12-29</th>\n",
       "      <td>371.5</td>\n",
       "    </tr>\n",
       "  </tbody>\n",
       "</table>\n",
       "<p>2284 rows × 1 columns</p>\n",
       "</div>"
      ],
      "text/plain": [
       "              co2\n",
       "1958-03-29  316.1\n",
       "1958-04-05  317.3\n",
       "1958-04-12  317.6\n",
       "1958-04-19  317.5\n",
       "1958-04-26  316.4\n",
       "...           ...\n",
       "2001-12-01  370.3\n",
       "2001-12-08  370.8\n",
       "2001-12-15  371.2\n",
       "2001-12-22  371.3\n",
       "2001-12-29  371.5\n",
       "\n",
       "[2284 rows x 1 columns]"
      ]
     },
     "execution_count": 9,
     "metadata": {},
     "output_type": "execute_result"
    }
   ],
   "source": [
    "sm.datasets.co2.load_pandas().data"
   ]
  },
  {
   "cell_type": "code",
   "execution_count": 10,
   "metadata": {},
   "outputs": [
    {
     "data": {
      "text/html": [
       "<div>\n",
       "<style scoped>\n",
       "    .dataframe tbody tr th:only-of-type {\n",
       "        vertical-align: middle;\n",
       "    }\n",
       "\n",
       "    .dataframe tbody tr th {\n",
       "        vertical-align: top;\n",
       "    }\n",
       "\n",
       "    .dataframe thead th {\n",
       "        text-align: right;\n",
       "    }\n",
       "</style>\n",
       "<table border=\"1\" class=\"dataframe\">\n",
       "  <thead>\n",
       "    <tr style=\"text-align: right;\">\n",
       "      <th></th>\n",
       "      <th>co2</th>\n",
       "    </tr>\n",
       "  </thead>\n",
       "  <tbody>\n",
       "    <tr>\n",
       "      <th>1958-03-29</th>\n",
       "      <td>316.1</td>\n",
       "    </tr>\n",
       "    <tr>\n",
       "      <th>1958-04-05</th>\n",
       "      <td>317.3</td>\n",
       "    </tr>\n",
       "    <tr>\n",
       "      <th>1958-04-12</th>\n",
       "      <td>317.6</td>\n",
       "    </tr>\n",
       "    <tr>\n",
       "      <th>1958-04-19</th>\n",
       "      <td>317.5</td>\n",
       "    </tr>\n",
       "    <tr>\n",
       "      <th>1958-04-26</th>\n",
       "      <td>316.4</td>\n",
       "    </tr>\n",
       "  </tbody>\n",
       "</table>\n",
       "</div>"
      ],
      "text/plain": [
       "              co2\n",
       "1958-03-29  316.1\n",
       "1958-04-05  317.3\n",
       "1958-04-12  317.6\n",
       "1958-04-19  317.5\n",
       "1958-04-26  316.4"
      ]
     },
     "execution_count": 10,
     "metadata": {},
     "output_type": "execute_result"
    }
   ],
   "source": [
    "dataset_co2 = co2.load_pandas()\n",
    "df_co2 = dataset_co2.data\n",
    "df_co2.head()"
   ]
  },
  {
   "cell_type": "code",
   "execution_count": 11,
   "metadata": {},
   "outputs": [
    {
     "data": {
      "text/plain": [
       "co2    340.142247\n",
       "dtype: float64"
      ]
     },
     "execution_count": 11,
     "metadata": {},
     "output_type": "execute_result"
    }
   ],
   "source": [
    "df_co2.mean()\n",
    "\n"
   ]
  },
  {
   "cell_type": "code",
   "execution_count": 12,
   "metadata": {},
   "outputs": [
    {
     "data": {
      "text/html": [
       "<div>\n",
       "<style scoped>\n",
       "    .dataframe tbody tr th:only-of-type {\n",
       "        vertical-align: middle;\n",
       "    }\n",
       "\n",
       "    .dataframe tbody tr th {\n",
       "        vertical-align: top;\n",
       "    }\n",
       "\n",
       "    .dataframe thead th {\n",
       "        text-align: right;\n",
       "    }\n",
       "</style>\n",
       "<table border=\"1\" class=\"dataframe\">\n",
       "  <thead>\n",
       "    <tr style=\"text-align: right;\">\n",
       "      <th></th>\n",
       "      <th>co2</th>\n",
       "    </tr>\n",
       "  </thead>\n",
       "  <tbody>\n",
       "    <tr>\n",
       "      <th>count</th>\n",
       "      <td>2225.000000</td>\n",
       "    </tr>\n",
       "    <tr>\n",
       "      <th>mean</th>\n",
       "      <td>340.142247</td>\n",
       "    </tr>\n",
       "    <tr>\n",
       "      <th>std</th>\n",
       "      <td>17.003885</td>\n",
       "    </tr>\n",
       "    <tr>\n",
       "      <th>min</th>\n",
       "      <td>313.000000</td>\n",
       "    </tr>\n",
       "    <tr>\n",
       "      <th>25%</th>\n",
       "      <td>324.800000</td>\n",
       "    </tr>\n",
       "    <tr>\n",
       "      <th>50%</th>\n",
       "      <td>338.300000</td>\n",
       "    </tr>\n",
       "    <tr>\n",
       "      <th>75%</th>\n",
       "      <td>354.800000</td>\n",
       "    </tr>\n",
       "    <tr>\n",
       "      <th>max</th>\n",
       "      <td>373.900000</td>\n",
       "    </tr>\n",
       "  </tbody>\n",
       "</table>\n",
       "</div>"
      ],
      "text/plain": [
       "               co2\n",
       "count  2225.000000\n",
       "mean    340.142247\n",
       "std      17.003885\n",
       "min     313.000000\n",
       "25%     324.800000\n",
       "50%     338.300000\n",
       "75%     354.800000\n",
       "max     373.900000"
      ]
     },
     "execution_count": 12,
     "metadata": {},
     "output_type": "execute_result"
    }
   ],
   "source": [
    "# Journalist: \"what was the highest co2 value recorded in this data set?\"\n",
    "df_co2.describe()\n",
    "#answer: \"the highest level found was 373.9\""
   ]
  },
  {
   "cell_type": "code",
   "execution_count": 13,
   "metadata": {},
   "outputs": [
    {
     "data": {
      "text/html": [
       "<div>\n",
       "<style scoped>\n",
       "    .dataframe tbody tr th:only-of-type {\n",
       "        vertical-align: middle;\n",
       "    }\n",
       "\n",
       "    .dataframe tbody tr th {\n",
       "        vertical-align: top;\n",
       "    }\n",
       "\n",
       "    .dataframe thead th {\n",
       "        text-align: right;\n",
       "    }\n",
       "</style>\n",
       "<table border=\"1\" class=\"dataframe\">\n",
       "  <thead>\n",
       "    <tr style=\"text-align: right;\">\n",
       "      <th></th>\n",
       "      <th>co2</th>\n",
       "      <th>recordeddate</th>\n",
       "    </tr>\n",
       "  </thead>\n",
       "  <tbody>\n",
       "    <tr>\n",
       "      <th>1958-03-29</th>\n",
       "      <td>316.1</td>\n",
       "      <td>1958-03-29</td>\n",
       "    </tr>\n",
       "    <tr>\n",
       "      <th>1958-04-05</th>\n",
       "      <td>317.3</td>\n",
       "      <td>1958-04-05</td>\n",
       "    </tr>\n",
       "    <tr>\n",
       "      <th>1958-04-12</th>\n",
       "      <td>317.6</td>\n",
       "      <td>1958-04-12</td>\n",
       "    </tr>\n",
       "    <tr>\n",
       "      <th>1958-04-19</th>\n",
       "      <td>317.5</td>\n",
       "      <td>1958-04-19</td>\n",
       "    </tr>\n",
       "    <tr>\n",
       "      <th>1958-04-26</th>\n",
       "      <td>316.4</td>\n",
       "      <td>1958-04-26</td>\n",
       "    </tr>\n",
       "  </tbody>\n",
       "</table>\n",
       "</div>"
      ],
      "text/plain": [
       "              co2 recordeddate\n",
       "1958-03-29  316.1   1958-03-29\n",
       "1958-04-05  317.3   1958-04-05\n",
       "1958-04-12  317.6   1958-04-12\n",
       "1958-04-19  317.5   1958-04-19\n",
       "1958-04-26  316.4   1958-04-26"
      ]
     },
     "execution_count": 13,
     "metadata": {},
     "output_type": "execute_result"
    }
   ],
   "source": [
    "df_co2['recordeddate']=df_co2.index\n",
    "df_co2.head()\n"
   ]
  },
  {
   "cell_type": "code",
   "execution_count": 14,
   "metadata": {},
   "outputs": [
    {
     "name": "stdout",
     "output_type": "stream",
     "text": [
      "<class 'pandas.core.frame.DataFrame'>\n",
      "DatetimeIndex: 2284 entries, 1958-03-29 to 2001-12-29\n",
      "Freq: W-SAT\n",
      "Data columns (total 2 columns):\n",
      " #   Column        Non-Null Count  Dtype         \n",
      "---  ------        --------------  -----         \n",
      " 0   co2           2225 non-null   float64       \n",
      " 1   recordeddate  2284 non-null   datetime64[ns]\n",
      "dtypes: datetime64[ns](1), float64(1)\n",
      "memory usage: 53.5 KB\n"
     ]
    }
   ],
   "source": [
    "df_co2.info()\n"
   ]
  },
  {
   "cell_type": "code",
   "execution_count": 15,
   "metadata": {},
   "outputs": [
    {
     "data": {
      "text/html": [
       "<div>\n",
       "<style scoped>\n",
       "    .dataframe tbody tr th:only-of-type {\n",
       "        vertical-align: middle;\n",
       "    }\n",
       "\n",
       "    .dataframe tbody tr th {\n",
       "        vertical-align: top;\n",
       "    }\n",
       "\n",
       "    .dataframe thead th {\n",
       "        text-align: right;\n",
       "    }\n",
       "</style>\n",
       "<table border=\"1\" class=\"dataframe\">\n",
       "  <thead>\n",
       "    <tr style=\"text-align: right;\">\n",
       "      <th></th>\n",
       "      <th>co2</th>\n",
       "      <th>recordeddate</th>\n",
       "      <th>recordedyear</th>\n",
       "    </tr>\n",
       "  </thead>\n",
       "  <tbody>\n",
       "    <tr>\n",
       "      <th>1958-03-29</th>\n",
       "      <td>316.1</td>\n",
       "      <td>1958-03-29</td>\n",
       "      <td>1958</td>\n",
       "    </tr>\n",
       "    <tr>\n",
       "      <th>1958-04-05</th>\n",
       "      <td>317.3</td>\n",
       "      <td>1958-04-05</td>\n",
       "      <td>1958</td>\n",
       "    </tr>\n",
       "    <tr>\n",
       "      <th>1958-04-12</th>\n",
       "      <td>317.6</td>\n",
       "      <td>1958-04-12</td>\n",
       "      <td>1958</td>\n",
       "    </tr>\n",
       "    <tr>\n",
       "      <th>1958-04-19</th>\n",
       "      <td>317.5</td>\n",
       "      <td>1958-04-19</td>\n",
       "      <td>1958</td>\n",
       "    </tr>\n",
       "    <tr>\n",
       "      <th>1958-04-26</th>\n",
       "      <td>316.4</td>\n",
       "      <td>1958-04-26</td>\n",
       "      <td>1958</td>\n",
       "    </tr>\n",
       "  </tbody>\n",
       "</table>\n",
       "</div>"
      ],
      "text/plain": [
       "              co2 recordeddate  recordedyear\n",
       "1958-03-29  316.1   1958-03-29          1958\n",
       "1958-04-05  317.3   1958-04-05          1958\n",
       "1958-04-12  317.6   1958-04-12          1958\n",
       "1958-04-19  317.5   1958-04-19          1958\n",
       "1958-04-26  316.4   1958-04-26          1958"
      ]
     },
     "execution_count": 15,
     "metadata": {},
     "output_type": "execute_result"
    }
   ],
   "source": [
    "df_co2['recordedyear']=df_co2['recordeddate'].dt.year\n",
    "df_co2.head()\n"
   ]
  },
  {
   "cell_type": "code",
   "execution_count": 16,
   "metadata": {},
   "outputs": [
    {
     "data": {
      "text/plain": [
       "1958-03-29   1958-03-29\n",
       "1958-04-05   1958-04-05\n",
       "1958-04-12   1958-04-12\n",
       "1958-04-19   1958-04-19\n",
       "1958-04-26   1958-04-26\n",
       "                ...    \n",
       "2001-12-01   2001-12-01\n",
       "2001-12-08   2001-12-08\n",
       "2001-12-15   2001-12-15\n",
       "2001-12-22   2001-12-22\n",
       "2001-12-29   2001-12-29\n",
       "Freq: W-SAT, Name: recordeddate, Length: 2284, dtype: datetime64[ns]"
      ]
     },
     "execution_count": 16,
     "metadata": {},
     "output_type": "execute_result"
    }
   ],
   "source": [
    "df_co2['recordeddate']\n"
   ]
  },
  {
   "cell_type": "code",
   "execution_count": 17,
   "metadata": {},
   "outputs": [
    {
     "data": {
      "text/html": [
       "<div>\n",
       "<style scoped>\n",
       "    .dataframe tbody tr th:only-of-type {\n",
       "        vertical-align: middle;\n",
       "    }\n",
       "\n",
       "    .dataframe tbody tr th {\n",
       "        vertical-align: top;\n",
       "    }\n",
       "\n",
       "    .dataframe thead th {\n",
       "        text-align: right;\n",
       "    }\n",
       "</style>\n",
       "<table border=\"1\" class=\"dataframe\">\n",
       "  <thead>\n",
       "    <tr style=\"text-align: right;\">\n",
       "      <th></th>\n",
       "      <th>co2</th>\n",
       "      <th>recordeddate</th>\n",
       "      <th>recordedyear</th>\n",
       "      <th>recordedmonth</th>\n",
       "    </tr>\n",
       "  </thead>\n",
       "  <tbody>\n",
       "    <tr>\n",
       "      <th>1958-03-29</th>\n",
       "      <td>316.1</td>\n",
       "      <td>1958-03-29</td>\n",
       "      <td>1958</td>\n",
       "      <td>3</td>\n",
       "    </tr>\n",
       "    <tr>\n",
       "      <th>1958-04-05</th>\n",
       "      <td>317.3</td>\n",
       "      <td>1958-04-05</td>\n",
       "      <td>1958</td>\n",
       "      <td>4</td>\n",
       "    </tr>\n",
       "    <tr>\n",
       "      <th>1958-04-12</th>\n",
       "      <td>317.6</td>\n",
       "      <td>1958-04-12</td>\n",
       "      <td>1958</td>\n",
       "      <td>4</td>\n",
       "    </tr>\n",
       "    <tr>\n",
       "      <th>1958-04-19</th>\n",
       "      <td>317.5</td>\n",
       "      <td>1958-04-19</td>\n",
       "      <td>1958</td>\n",
       "      <td>4</td>\n",
       "    </tr>\n",
       "    <tr>\n",
       "      <th>1958-04-26</th>\n",
       "      <td>316.4</td>\n",
       "      <td>1958-04-26</td>\n",
       "      <td>1958</td>\n",
       "      <td>4</td>\n",
       "    </tr>\n",
       "  </tbody>\n",
       "</table>\n",
       "</div>"
      ],
      "text/plain": [
       "              co2 recordeddate  recordedyear  recordedmonth\n",
       "1958-03-29  316.1   1958-03-29          1958              3\n",
       "1958-04-05  317.3   1958-04-05          1958              4\n",
       "1958-04-12  317.6   1958-04-12          1958              4\n",
       "1958-04-19  317.5   1958-04-19          1958              4\n",
       "1958-04-26  316.4   1958-04-26          1958              4"
      ]
     },
     "execution_count": 17,
     "metadata": {},
     "output_type": "execute_result"
    }
   ],
   "source": [
    "df_co2['recordedmonth']=df_co2['recordeddate'].dt.month\n",
    "df_co2.head()"
   ]
  },
  {
   "cell_type": "code",
   "execution_count": 18,
   "metadata": {},
   "outputs": [
    {
     "data": {
      "text/html": [
       "<div>\n",
       "<style scoped>\n",
       "    .dataframe tbody tr th:only-of-type {\n",
       "        vertical-align: middle;\n",
       "    }\n",
       "\n",
       "    .dataframe tbody tr th {\n",
       "        vertical-align: top;\n",
       "    }\n",
       "\n",
       "    .dataframe thead th {\n",
       "        text-align: right;\n",
       "    }\n",
       "</style>\n",
       "<table border=\"1\" class=\"dataframe\">\n",
       "  <thead>\n",
       "    <tr style=\"text-align: right;\">\n",
       "      <th></th>\n",
       "      <th>co2</th>\n",
       "      <th>recordeddate</th>\n",
       "      <th>recordedyear</th>\n",
       "      <th>recordedmonth</th>\n",
       "      <th>co2_cat</th>\n",
       "    </tr>\n",
       "  </thead>\n",
       "  <tbody>\n",
       "    <tr>\n",
       "      <th>1958-03-29</th>\n",
       "      <td>316.1</td>\n",
       "      <td>1958-03-29</td>\n",
       "      <td>1958</td>\n",
       "      <td>3</td>\n",
       "      <td>low</td>\n",
       "    </tr>\n",
       "    <tr>\n",
       "      <th>1958-04-05</th>\n",
       "      <td>317.3</td>\n",
       "      <td>1958-04-05</td>\n",
       "      <td>1958</td>\n",
       "      <td>4</td>\n",
       "      <td>low</td>\n",
       "    </tr>\n",
       "    <tr>\n",
       "      <th>1958-04-12</th>\n",
       "      <td>317.6</td>\n",
       "      <td>1958-04-12</td>\n",
       "      <td>1958</td>\n",
       "      <td>4</td>\n",
       "      <td>low</td>\n",
       "    </tr>\n",
       "    <tr>\n",
       "      <th>1958-04-19</th>\n",
       "      <td>317.5</td>\n",
       "      <td>1958-04-19</td>\n",
       "      <td>1958</td>\n",
       "      <td>4</td>\n",
       "      <td>low</td>\n",
       "    </tr>\n",
       "    <tr>\n",
       "      <th>1958-04-26</th>\n",
       "      <td>316.4</td>\n",
       "      <td>1958-04-26</td>\n",
       "      <td>1958</td>\n",
       "      <td>4</td>\n",
       "      <td>low</td>\n",
       "    </tr>\n",
       "  </tbody>\n",
       "</table>\n",
       "</div>"
      ],
      "text/plain": [
       "              co2 recordeddate  recordedyear  recordedmonth co2_cat\n",
       "1958-03-29  316.1   1958-03-29          1958              3     low\n",
       "1958-04-05  317.3   1958-04-05          1958              4     low\n",
       "1958-04-12  317.6   1958-04-12          1958              4     low\n",
       "1958-04-19  317.5   1958-04-19          1958              4     low\n",
       "1958-04-26  316.4   1958-04-26          1958              4     low"
      ]
     },
     "execution_count": 18,
     "metadata": {},
     "output_type": "execute_result"
    }
   ],
   "source": [
    "# Journalist: \"what were the highest and lowest levels of co2 found in this database?\"\n",
    "bins=[300, 325,350,400]\n",
    "names=['low','medium','high']\n",
    "df_co2['co2_cat']=pd.cut(df_co2['co2'], bins, labels=names)\n",
    "df_co2.head()\n"
   ]
  },
  {
   "cell_type": "code",
   "execution_count": 19,
   "metadata": {},
   "outputs": [
    {
     "data": {
      "text/html": [
       "<div>\n",
       "<style scoped>\n",
       "    .dataframe tbody tr th:only-of-type {\n",
       "        vertical-align: middle;\n",
       "    }\n",
       "\n",
       "    .dataframe tbody tr th {\n",
       "        vertical-align: top;\n",
       "    }\n",
       "\n",
       "    .dataframe thead th {\n",
       "        text-align: right;\n",
       "    }\n",
       "</style>\n",
       "<table border=\"1\" class=\"dataframe\">\n",
       "  <thead>\n",
       "    <tr style=\"text-align: right;\">\n",
       "      <th></th>\n",
       "      <th>co2</th>\n",
       "      <th>recordeddate</th>\n",
       "      <th>recordedyear</th>\n",
       "      <th>recordedmonth</th>\n",
       "      <th>co2_cat</th>\n",
       "    </tr>\n",
       "  </thead>\n",
       "  <tbody>\n",
       "    <tr>\n",
       "      <th>2001-12-01</th>\n",
       "      <td>370.3</td>\n",
       "      <td>2001-12-01</td>\n",
       "      <td>2001</td>\n",
       "      <td>12</td>\n",
       "      <td>high</td>\n",
       "    </tr>\n",
       "    <tr>\n",
       "      <th>2001-12-08</th>\n",
       "      <td>370.8</td>\n",
       "      <td>2001-12-08</td>\n",
       "      <td>2001</td>\n",
       "      <td>12</td>\n",
       "      <td>high</td>\n",
       "    </tr>\n",
       "    <tr>\n",
       "      <th>2001-12-15</th>\n",
       "      <td>371.2</td>\n",
       "      <td>2001-12-15</td>\n",
       "      <td>2001</td>\n",
       "      <td>12</td>\n",
       "      <td>high</td>\n",
       "    </tr>\n",
       "    <tr>\n",
       "      <th>2001-12-22</th>\n",
       "      <td>371.3</td>\n",
       "      <td>2001-12-22</td>\n",
       "      <td>2001</td>\n",
       "      <td>12</td>\n",
       "      <td>high</td>\n",
       "    </tr>\n",
       "    <tr>\n",
       "      <th>2001-12-29</th>\n",
       "      <td>371.5</td>\n",
       "      <td>2001-12-29</td>\n",
       "      <td>2001</td>\n",
       "      <td>12</td>\n",
       "      <td>high</td>\n",
       "    </tr>\n",
       "  </tbody>\n",
       "</table>\n",
       "</div>"
      ],
      "text/plain": [
       "              co2 recordeddate  recordedyear  recordedmonth co2_cat\n",
       "2001-12-01  370.3   2001-12-01          2001             12    high\n",
       "2001-12-08  370.8   2001-12-08          2001             12    high\n",
       "2001-12-15  371.2   2001-12-15          2001             12    high\n",
       "2001-12-22  371.3   2001-12-22          2001             12    high\n",
       "2001-12-29  371.5   2001-12-29          2001             12    high"
      ]
     },
     "execution_count": 19,
     "metadata": {},
     "output_type": "execute_result"
    }
   ],
   "source": [
    "df_co2.tail()"
   ]
  },
  {
   "cell_type": "code",
   "execution_count": 20,
   "metadata": {},
   "outputs": [],
   "source": [
    "# answer: \"the highest levels of Co2 were from December 2001, and the lowest were in April of 1958\""
   ]
  },
  {
   "cell_type": "code",
   "execution_count": 21,
   "metadata": {},
   "outputs": [
    {
     "name": "stderr",
     "output_type": "stream",
     "text": [
      "<ipython-input-21-18bb3774cb52>:2: FutureWarning: DataFrame.mean and DataFrame.median with numeric_only=None will include datetime64 and datetime64tz columns in a future version.\n",
      "  df_co2.median()\n"
     ]
    },
    {
     "data": {
      "text/plain": [
       "co2               338.3\n",
       "recordedyear     1980.0\n",
       "recordedmonth       7.0\n",
       "dtype: float64"
      ]
     },
     "execution_count": 21,
     "metadata": {},
     "output_type": "execute_result"
    }
   ],
   "source": [
    "# Journalist:\"where is the divide in between high and low co2 levels?\"\n",
    "df_co2.median()\n"
   ]
  },
  {
   "cell_type": "code",
   "execution_count": 22,
   "metadata": {},
   "outputs": [],
   "source": [
    "#answer: The median occured in 1980 with a value of 338.3"
   ]
  },
  {
   "cell_type": "code",
   "execution_count": 23,
   "metadata": {},
   "outputs": [
    {
     "data": {
      "text/html": [
       "<div>\n",
       "<style scoped>\n",
       "    .dataframe tbody tr th:only-of-type {\n",
       "        vertical-align: middle;\n",
       "    }\n",
       "\n",
       "    .dataframe tbody tr th {\n",
       "        vertical-align: top;\n",
       "    }\n",
       "\n",
       "    .dataframe thead th {\n",
       "        text-align: right;\n",
       "    }\n",
       "</style>\n",
       "<table border=\"1\" class=\"dataframe\">\n",
       "  <thead>\n",
       "    <tr style=\"text-align: right;\">\n",
       "      <th></th>\n",
       "      <th>co2</th>\n",
       "      <th>recordeddate</th>\n",
       "      <th>recordedyear</th>\n",
       "      <th>recordedmonth</th>\n",
       "      <th>co2_cat</th>\n",
       "      <th>recordedday</th>\n",
       "    </tr>\n",
       "  </thead>\n",
       "  <tbody>\n",
       "    <tr>\n",
       "      <th>1958-03-29</th>\n",
       "      <td>316.1</td>\n",
       "      <td>1958-03-29</td>\n",
       "      <td>1958</td>\n",
       "      <td>3</td>\n",
       "      <td>low</td>\n",
       "      <td>29</td>\n",
       "    </tr>\n",
       "    <tr>\n",
       "      <th>1958-04-05</th>\n",
       "      <td>317.3</td>\n",
       "      <td>1958-04-05</td>\n",
       "      <td>1958</td>\n",
       "      <td>4</td>\n",
       "      <td>low</td>\n",
       "      <td>5</td>\n",
       "    </tr>\n",
       "    <tr>\n",
       "      <th>1958-04-12</th>\n",
       "      <td>317.6</td>\n",
       "      <td>1958-04-12</td>\n",
       "      <td>1958</td>\n",
       "      <td>4</td>\n",
       "      <td>low</td>\n",
       "      <td>12</td>\n",
       "    </tr>\n",
       "    <tr>\n",
       "      <th>1958-04-19</th>\n",
       "      <td>317.5</td>\n",
       "      <td>1958-04-19</td>\n",
       "      <td>1958</td>\n",
       "      <td>4</td>\n",
       "      <td>low</td>\n",
       "      <td>19</td>\n",
       "    </tr>\n",
       "    <tr>\n",
       "      <th>1958-04-26</th>\n",
       "      <td>316.4</td>\n",
       "      <td>1958-04-26</td>\n",
       "      <td>1958</td>\n",
       "      <td>4</td>\n",
       "      <td>low</td>\n",
       "      <td>26</td>\n",
       "    </tr>\n",
       "  </tbody>\n",
       "</table>\n",
       "</div>"
      ],
      "text/plain": [
       "              co2 recordeddate  recordedyear  recordedmonth co2_cat  \\\n",
       "1958-03-29  316.1   1958-03-29          1958              3     low   \n",
       "1958-04-05  317.3   1958-04-05          1958              4     low   \n",
       "1958-04-12  317.6   1958-04-12          1958              4     low   \n",
       "1958-04-19  317.5   1958-04-19          1958              4     low   \n",
       "1958-04-26  316.4   1958-04-26          1958              4     low   \n",
       "\n",
       "            recordedday  \n",
       "1958-03-29           29  \n",
       "1958-04-05            5  \n",
       "1958-04-12           12  \n",
       "1958-04-19           19  \n",
       "1958-04-26           26  "
      ]
     },
     "execution_count": 23,
     "metadata": {},
     "output_type": "execute_result"
    }
   ],
   "source": [
    "#journalist: \"may I please see the data with now the exact days instead of just year and month. \"\n",
    "df_co2['recordedday']=df_co2['recordeddate'].dt.day\n",
    "df_co2.head()"
   ]
  },
  {
   "cell_type": "code",
   "execution_count": 24,
   "metadata": {},
   "outputs": [
    {
     "data": {
      "text/html": [
       "<div>\n",
       "<style scoped>\n",
       "    .dataframe tbody tr th:only-of-type {\n",
       "        vertical-align: middle;\n",
       "    }\n",
       "\n",
       "    .dataframe tbody tr th {\n",
       "        vertical-align: top;\n",
       "    }\n",
       "\n",
       "    .dataframe thead th {\n",
       "        text-align: right;\n",
       "    }\n",
       "</style>\n",
       "<table border=\"1\" class=\"dataframe\">\n",
       "  <thead>\n",
       "    <tr style=\"text-align: right;\">\n",
       "      <th></th>\n",
       "      <th>co2</th>\n",
       "      <th>recordeddate</th>\n",
       "      <th>recordedyear</th>\n",
       "      <th>recordedmonth</th>\n",
       "      <th>co2_cat</th>\n",
       "      <th>recordedday</th>\n",
       "    </tr>\n",
       "  </thead>\n",
       "  <tbody>\n",
       "    <tr>\n",
       "      <th>2001-12-01</th>\n",
       "      <td>370.3</td>\n",
       "      <td>2001-12-01</td>\n",
       "      <td>2001</td>\n",
       "      <td>12</td>\n",
       "      <td>high</td>\n",
       "      <td>1</td>\n",
       "    </tr>\n",
       "    <tr>\n",
       "      <th>2001-12-08</th>\n",
       "      <td>370.8</td>\n",
       "      <td>2001-12-08</td>\n",
       "      <td>2001</td>\n",
       "      <td>12</td>\n",
       "      <td>high</td>\n",
       "      <td>8</td>\n",
       "    </tr>\n",
       "    <tr>\n",
       "      <th>2001-12-15</th>\n",
       "      <td>371.2</td>\n",
       "      <td>2001-12-15</td>\n",
       "      <td>2001</td>\n",
       "      <td>12</td>\n",
       "      <td>high</td>\n",
       "      <td>15</td>\n",
       "    </tr>\n",
       "    <tr>\n",
       "      <th>2001-12-22</th>\n",
       "      <td>371.3</td>\n",
       "      <td>2001-12-22</td>\n",
       "      <td>2001</td>\n",
       "      <td>12</td>\n",
       "      <td>high</td>\n",
       "      <td>22</td>\n",
       "    </tr>\n",
       "    <tr>\n",
       "      <th>2001-12-29</th>\n",
       "      <td>371.5</td>\n",
       "      <td>2001-12-29</td>\n",
       "      <td>2001</td>\n",
       "      <td>12</td>\n",
       "      <td>high</td>\n",
       "      <td>29</td>\n",
       "    </tr>\n",
       "  </tbody>\n",
       "</table>\n",
       "</div>"
      ],
      "text/plain": [
       "              co2 recordeddate  recordedyear  recordedmonth co2_cat  \\\n",
       "2001-12-01  370.3   2001-12-01          2001             12    high   \n",
       "2001-12-08  370.8   2001-12-08          2001             12    high   \n",
       "2001-12-15  371.2   2001-12-15          2001             12    high   \n",
       "2001-12-22  371.3   2001-12-22          2001             12    high   \n",
       "2001-12-29  371.5   2001-12-29          2001             12    high   \n",
       "\n",
       "            recordedday  \n",
       "2001-12-01            1  \n",
       "2001-12-08            8  \n",
       "2001-12-15           15  \n",
       "2001-12-22           22  \n",
       "2001-12-29           29  "
      ]
     },
     "execution_count": 24,
     "metadata": {},
     "output_type": "execute_result"
    }
   ],
   "source": [
    "df_co2.tail()\n"
   ]
  },
  {
   "cell_type": "code",
   "execution_count": 25,
   "metadata": {},
   "outputs": [],
   "source": [
    "xdata = np.linspace(0,400,400)\n",
    "ydata = np.sqrt(xdata)"
   ]
  },
  {
   "cell_type": "code",
   "execution_count": 26,
   "metadata": {},
   "outputs": [
    {
     "data": {
      "text/plain": [
       "[<matplotlib.lines.Line2D at 0x24b035284c0>]"
      ]
     },
     "execution_count": 26,
     "metadata": {},
     "output_type": "execute_result"
    },
    {
     "data": {
      "image/png": "[encoded data removed]",
      "text/plain": [
       "<Figure size 432x288 with 1 Axes>"
      ]
     },
     "metadata": {
      "needs_background": "light"
     },
     "output_type": "display_data"
    }
   ],
   "source": [
    "plt.plot(xdata, ydata)"
   ]
  },
  {
   "cell_type": "code",
   "execution_count": 27,
   "metadata": {},
   "outputs": [
    {
     "data": {
      "text/plain": [
       "[<matplotlib.lines.Line2D at 0x24b0386a130>,\n",
       " <matplotlib.lines.Line2D at 0x24b0386a160>]"
      ]
     },
     "execution_count": 27,
     "metadata": {},
     "output_type": "execute_result"
    },
    {
     "data": {
      "text/plain": [
       "Text(0.5, 1.0, 'co2 rise')"
      ]
     },
     "execution_count": 27,
     "metadata": {},
     "output_type": "execute_result"
    },
    {
     "data": {
      "text/plain": [
       "Text(0.5, 0, 'co2 value')"
      ]
     },
     "execution_count": 27,
     "metadata": {},
     "output_type": "execute_result"
    },
    {
     "data": {
      "text/plain": [
       "Text(0, 0.5, 'date')"
      ]
     },
     "execution_count": 27,
     "metadata": {},
     "output_type": "execute_result"
    },
    {
     "data": {
      "image/png": "[encoded data removed]",
      "text/plain": [
       "<Figure size 432x288 with 1 Axes>"
      ]
     },
     "metadata": {
      "needs_background": "light"
     },
     "output_type": "display_data"
    }
   ],
   "source": [
    "plt.plot(xdata, ydata, \"bo\", xdata, ydata ** 2, \"g-\")\n",
    "plt.title(\"co2 rise\")\n",
    "plt.xlabel(\"co2 value\")\n",
    "plt.ylabel(\"date\")"
   ]
  },
  {
   "cell_type": "code",
   "execution_count": 28,
   "metadata": {},
   "outputs": [
    {
     "data": {
      "text/plain": [
       "Index(['co2', 'recordeddate', 'recordedyear', 'recordedmonth', 'co2_cat',\n",
       "       'recordedday'],\n",
       "      dtype='object')"
      ]
     },
     "execution_count": 28,
     "metadata": {},
     "output_type": "execute_result"
    }
   ],
   "source": [
    "df_co2.columns\n"
   ]
  },
  {
   "cell_type": "code",
   "execution_count": 32,
   "metadata": {
    "scrolled": true
   },
   "outputs": [
    {
     "data": {
      "text/html": [
       "<div>\n",
       "<style scoped>\n",
       "    .dataframe tbody tr th:only-of-type {\n",
       "        vertical-align: middle;\n",
       "    }\n",
       "\n",
       "    .dataframe tbody tr th {\n",
       "        vertical-align: top;\n",
       "    }\n",
       "\n",
       "    .dataframe thead th {\n",
       "        text-align: right;\n",
       "    }\n",
       "</style>\n",
       "<table border=\"1\" class=\"dataframe\">\n",
       "  <thead>\n",
       "    <tr style=\"text-align: right;\">\n",
       "      <th></th>\n",
       "      <th>co2</th>\n",
       "      <th>recordeddate</th>\n",
       "      <th>recordedyear</th>\n",
       "      <th>recordedmonth</th>\n",
       "      <th>co2_cat</th>\n",
       "      <th>recordedday</th>\n",
       "    </tr>\n",
       "  </thead>\n",
       "  <tbody>\n",
       "    <tr>\n",
       "      <th>1958-03-29</th>\n",
       "      <td>316.1</td>\n",
       "      <td>1958-03-29</td>\n",
       "      <td>1958</td>\n",
       "      <td>3</td>\n",
       "      <td>low</td>\n",
       "      <td>29</td>\n",
       "    </tr>\n",
       "    <tr>\n",
       "      <th>1958-04-05</th>\n",
       "      <td>317.3</td>\n",
       "      <td>1958-04-05</td>\n",
       "      <td>1958</td>\n",
       "      <td>4</td>\n",
       "      <td>low</td>\n",
       "      <td>5</td>\n",
       "    </tr>\n",
       "    <tr>\n",
       "      <th>1958-04-12</th>\n",
       "      <td>317.6</td>\n",
       "      <td>1958-04-12</td>\n",
       "      <td>1958</td>\n",
       "      <td>4</td>\n",
       "      <td>low</td>\n",
       "      <td>12</td>\n",
       "    </tr>\n",
       "    <tr>\n",
       "      <th>1958-04-19</th>\n",
       "      <td>317.5</td>\n",
       "      <td>1958-04-19</td>\n",
       "      <td>1958</td>\n",
       "      <td>4</td>\n",
       "      <td>low</td>\n",
       "      <td>19</td>\n",
       "    </tr>\n",
       "    <tr>\n",
       "      <th>1958-04-26</th>\n",
       "      <td>316.4</td>\n",
       "      <td>1958-04-26</td>\n",
       "      <td>1958</td>\n",
       "      <td>4</td>\n",
       "      <td>low</td>\n",
       "      <td>26</td>\n",
       "    </tr>\n",
       "  </tbody>\n",
       "</table>\n",
       "</div>"
      ],
      "text/plain": [
       "              co2 recordeddate  recordedyear  recordedmonth co2_cat  \\\n",
       "1958-03-29  316.1   1958-03-29          1958              3     low   \n",
       "1958-04-05  317.3   1958-04-05          1958              4     low   \n",
       "1958-04-12  317.6   1958-04-12          1958              4     low   \n",
       "1958-04-19  317.5   1958-04-19          1958              4     low   \n",
       "1958-04-26  316.4   1958-04-26          1958              4     low   \n",
       "\n",
       "            recordedday  \n",
       "1958-03-29           29  \n",
       "1958-04-05            5  \n",
       "1958-04-12           12  \n",
       "1958-04-19           19  \n",
       "1958-04-26           26  "
      ]
     },
     "execution_count": 32,
     "metadata": {},
     "output_type": "execute_result"
    }
   ],
   "source": [
    "df_co2.head()\n"
   ]
  },
  {
   "cell_type": "code",
   "execution_count": 36,
   "metadata": {},
   "outputs": [
    {
     "data": {
      "text/html": [
       "<div>\n",
       "<style scoped>\n",
       "    .dataframe tbody tr th:only-of-type {\n",
       "        vertical-align: middle;\n",
       "    }\n",
       "\n",
       "    .dataframe tbody tr th {\n",
       "        vertical-align: top;\n",
       "    }\n",
       "\n",
       "    .dataframe thead th {\n",
       "        text-align: right;\n",
       "    }\n",
       "</style>\n",
       "<table border=\"1\" class=\"dataframe\">\n",
       "  <thead>\n",
       "    <tr style=\"text-align: right;\">\n",
       "      <th></th>\n",
       "      <th>co2</th>\n",
       "      <th>recordeddate</th>\n",
       "      <th>recordedyear</th>\n",
       "      <th>recordedmonth</th>\n",
       "      <th>co2_cat</th>\n",
       "      <th>recordedday</th>\n",
       "    </tr>\n",
       "  </thead>\n",
       "  <tbody>\n",
       "    <tr>\n",
       "      <th>2001-12-01</th>\n",
       "      <td>370.3</td>\n",
       "      <td>2001-12-01</td>\n",
       "      <td>2001</td>\n",
       "      <td>12</td>\n",
       "      <td>high</td>\n",
       "      <td>1</td>\n",
       "    </tr>\n",
       "    <tr>\n",
       "      <th>2001-12-08</th>\n",
       "      <td>370.8</td>\n",
       "      <td>2001-12-08</td>\n",
       "      <td>2001</td>\n",
       "      <td>12</td>\n",
       "      <td>high</td>\n",
       "      <td>8</td>\n",
       "    </tr>\n",
       "    <tr>\n",
       "      <th>2001-12-15</th>\n",
       "      <td>371.2</td>\n",
       "      <td>2001-12-15</td>\n",
       "      <td>2001</td>\n",
       "      <td>12</td>\n",
       "      <td>high</td>\n",
       "      <td>15</td>\n",
       "    </tr>\n",
       "    <tr>\n",
       "      <th>2001-12-22</th>\n",
       "      <td>371.3</td>\n",
       "      <td>2001-12-22</td>\n",
       "      <td>2001</td>\n",
       "      <td>12</td>\n",
       "      <td>high</td>\n",
       "      <td>22</td>\n",
       "    </tr>\n",
       "    <tr>\n",
       "      <th>2001-12-29</th>\n",
       "      <td>371.5</td>\n",
       "      <td>2001-12-29</td>\n",
       "      <td>2001</td>\n",
       "      <td>12</td>\n",
       "      <td>high</td>\n",
       "      <td>29</td>\n",
       "    </tr>\n",
       "  </tbody>\n",
       "</table>\n",
       "</div>"
      ],
      "text/plain": [
       "              co2 recordeddate  recordedyear  recordedmonth co2_cat  \\\n",
       "2001-12-01  370.3   2001-12-01          2001             12    high   \n",
       "2001-12-08  370.8   2001-12-08          2001             12    high   \n",
       "2001-12-15  371.2   2001-12-15          2001             12    high   \n",
       "2001-12-22  371.3   2001-12-22          2001             12    high   \n",
       "2001-12-29  371.5   2001-12-29          2001             12    high   \n",
       "\n",
       "            recordedday  \n",
       "2001-12-01            1  \n",
       "2001-12-08            8  \n",
       "2001-12-15           15  \n",
       "2001-12-22           22  \n",
       "2001-12-29           29  "
      ]
     },
     "execution_count": 36,
     "metadata": {},
     "output_type": "execute_result"
    }
   ],
   "source": [
    "df_co2.tail()"
   ]
  },
  {
   "cell_type": "code",
   "execution_count": 41,
   "metadata": {},
   "outputs": [
    {
     "data": {
      "text/plain": [
       "[<matplotlib.lines.Line2D at 0x24b03baf3a0>]"
      ]
     },
     "execution_count": 41,
     "metadata": {},
     "output_type": "execute_result"
    },
    {
     "data": {
      "text/plain": [
       "[<matplotlib.lines.Line2D at 0x24b03c6c2b0>]"
      ]
     },
     "execution_count": 41,
     "metadata": {},
     "output_type": "execute_result"
    },
    {
     "data": {
      "text/plain": [
       "Text(0.5, 1.0, 'Co2 trends of 1958 vs 2001')"
      ]
     },
     "execution_count": 41,
     "metadata": {},
     "output_type": "execute_result"
    },
    {
     "data": {
      "text/plain": [
       "Text(0.5, 0, 'days')"
      ]
     },
     "execution_count": 41,
     "metadata": {},
     "output_type": "execute_result"
    },
    {
     "data": {
      "text/plain": [
       "Text(0, 0.5, 'Co2 level')"
      ]
     },
     "execution_count": 41,
     "metadata": {},
     "output_type": "execute_result"
    },
    {
     "data": {
      "text/plain": [
       "<matplotlib.legend.Legend at 0x24b03bafa30>"
      ]
     },
     "execution_count": 41,
     "metadata": {},
     "output_type": "execute_result"
    },
    {
     "data": {
      "image/png": "[encoded data removed]",
      "text/plain": [
       "<Figure size 432x288 with 1 Axes>"
      ]
     },
     "metadata": {
      "needs_background": "light"
     },
     "output_type": "display_data"
    }
   ],
   "source": [
    "#showing journalist the trend of how co2 was greater in the 2000's\n",
    "x=[5,10,15,25,29]\n",
    "y=[316.1,317.3,317.6,317.5,316.4]\n",
    "z=[370.3,370.8,371.2,371.3,371.5]\n",
    "plt.plot(x,y)\n",
    "plt.plot(x,z)\n",
    "plt.title(\"Co2 trends of 1958 vs 2001\")\n",
    "plt.xlabel(\"days\")\n",
    "plt.ylabel(\"Co2 level\")\n",
    "plt.legend([\"1958 co2 levels\",\"2001 co2 levels\"])\n",
    "plt.show()\n"
   ]
  },
  {
   "cell_type": "code",
   "execution_count": null,
   "metadata": {
    "scrolled": true
   },
   "outputs": [],
   "source": [
    "fig1, ax1 = plt.subplots()\n",
    "ax1.set_title('Basic Plot')\n",
    "ax1.boxplot(df_co2['co2'])\n"
   ]
  },
  {
   "cell_type": "code",
   "execution_count": null,
   "metadata": {},
   "outputs": [],
   "source": [
    "df_co2[['co2','recordeddate']].boxplot(column=['co2'], by=['recordeddate'], \n",
    "                                           rot=45, fontsize=15, figsize=(20,15))"
   ]
  },
  {
   "cell_type": "code",
   "execution_count": null,
   "metadata": {},
   "outputs": [],
   "source": [
    "plt.scatter(df_co2['co2'])"
   ]
  },
  {
   "cell_type": "code",
   "execution_count": null,
   "metadata": {},
   "outputs": [],
   "source": [
    "subsetd = df_co2[['co2']]\n",
    "pd.plotting.scatter_matrix(subsetd, alpha=0.9, marker=\"o\", figsize=(15,15),diagonal = 'kde', grid=True)"
   ]
  }
 ],
 "metadata": {
  "kernelspec": {
   "display_name": "Python 3",
   "language": "python",
   "name": "python3"
  },
  "language_info": {
   "codemirror_mode": {
    "name": "ipython",
    "version": 3
   },
   "file_extension": ".py",
   "mimetype": "text/x-python",
   "name": "python",
   "nbconvert_exporter": "python",
   "pygments_lexer": "ipython3",
   "version": "3.8.5"
  }
 },
 "nbformat": 4,
 "nbformat_minor": 5
}
